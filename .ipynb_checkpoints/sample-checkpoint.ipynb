{
 "cells": [
  {
   "cell_type": "markdown",
   "id": "66810580-cffc-4aaa-8615-523544932fa2",
   "metadata": {},
   "source": [
    "## simple harmonic motion\n",
    "\n",
    "this function will output the position and velocity of a spring-mass system\n",
    "\n",
    "the important equations are:\n",
    "\n",
    "force $F = - k x = m a = m\\frac{d^2 x}{dx^2}$  \n",
    "potential E $U = \\frac{1}{2}kx^2$  \n"
   ]
  },
  {
   "cell_type": "code",
   "execution_count": 5,
   "id": "75c96581-5eab-46be-85d6-8cab5e93b2ac",
   "metadata": {},
   "outputs": [],
   "source": [
    "import math\n",
    "\n",
    "#define function\n",
    "def h_motion(t, omega, x0, v0):\n",
    "    '''\n",
    "    notes\n",
    "    function outputs position and velocity of spring-mass system at a certain time\n",
    "    \n",
    "    input:\n",
    "    t: time\n",
    "    omega: resonant freq (omega = math.sqrt(k/m))\n",
    "    x0: initial position\n",
    "    v0: initial velocity\n",
    "\n",
    "    return:\n",
    "    x: position\n",
    "    v: velocity\n",
    "    '''\n",
    "    #position function of time\n",
    "    x = x0 * math.cos(omega * t) + (v0 / omega) * math.sin(omega * t)\n",
    "    #velocity function of time\n",
    "    v = (-omega * x0) * math.sin(omega * t) + v0 * math.cos(omega * t)\n",
    "    return x, v"
   ]
  },
  {
   "cell_type": "code",
   "execution_count": 11,
   "id": "ac696500-549c-4bf4-8873-03ffb38fe379",
   "metadata": {},
   "outputs": [
    {
     "name": "stdout",
     "output_type": "stream",
     "text": [
      "-0.9999999999999999 -3.0000000000000004\n"
     ]
    }
   ],
   "source": [
    "#test\n",
    "time = 1*math.pi/omega #seconds\n",
    "omega = 2.3 #frequency, units tbd\n",
    "i_position = 1\n",
    "i_velocity = 3\n",
    "position, velocity = h_motion(time, omega, i_position, i_velocity)\n",
    "print(position, velocity)"
   ]
  },
  {
   "cell_type": "code",
   "execution_count": null,
   "id": "d8d5a38d-9e05-4879-9b57-7ab3ab4c6ba0",
   "metadata": {},
   "outputs": [],
   "source": []
  }
 ],
 "metadata": {
  "kernelspec": {
   "display_name": "Python 3 (ipykernel)",
   "language": "python",
   "name": "python3"
  },
  "language_info": {
   "codemirror_mode": {
    "name": "ipython",
    "version": 3
   },
   "file_extension": ".py",
   "mimetype": "text/x-python",
   "name": "python",
   "nbconvert_exporter": "python",
   "pygments_lexer": "ipython3",
   "version": "3.9.19"
  }
 },
 "nbformat": 4,
 "nbformat_minor": 5
}
