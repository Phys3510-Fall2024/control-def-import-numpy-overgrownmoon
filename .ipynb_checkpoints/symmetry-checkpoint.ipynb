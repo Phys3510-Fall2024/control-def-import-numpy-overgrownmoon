{
 "cells": [
  {
   "cell_type": "markdown",
   "id": "cce9a5dc-cf2f-4238-8abc-a6f6c9155966",
   "metadata": {},
   "source": [
    "homework 3 - symmetry operations"
   ]
  },
  {
   "cell_type": "code",
   "execution_count": 22,
   "id": "1a74bbec-a4e2-4bc3-ad04-90fd2ffa55b4",
   "metadata": {},
   "outputs": [
    {
     "name": "stdout",
     "output_type": "stream",
     "text": [
      "original objects: 0 1 [0 0 1] [0 0 1]\n",
      "inversion operation: \n",
      " 0 \n",
      " -1 \n",
      " [ 0  0 -1] \n",
      " [0 0 1]\n",
      "Z axis mirror operation: \n",
      " 0 \n",
      " -1 \n",
      " [ 0  0 -1] \n",
      " [0 0 1]\n",
      "Y axis mirror operation: \n",
      " 0 \n",
      " -1 \n",
      " [0 0 1] \n",
      " [ 0  0 -1]\n",
      "Rotation of 180 degrees arund x axis operation: \n",
      " 0 \n",
      " 1 \n",
      " [ 0  0 -1] \n",
      " [ 0  0 -1]\n"
     ]
    }
   ],
   "source": [
    "import numpy as np\n",
    "\n",
    "# define coordinates\n",
    "a = np.array([1, 0, 0])\n",
    "b = np.array([0, 1, 0])\n",
    "c = np.array([0, 0, 1])\n",
    "\n",
    "# define objects\n",
    "scalar = np.dot(a, b) #dot product\n",
    "pseudoscalar = np.dot(c, np.cross(a, b)) #triple scalar product\n",
    "polar_vector = c #no operation\n",
    "axial_vector = np.cross(a, b) #cross product\n",
    "print(\"original objects:\", scalar, pseudoscalar, polar_vector, axial_vector)\n",
    "\n",
    "# array 'even' if signs dont change, 'odd' if signs do change\n",
    "\n",
    "#operations\n",
    "identity = np.array(\n",
    "    [[1, 0, 0]\n",
    "     ,[0, 1, 0]\n",
    "     ,[0, 0, 1]]\n",
    ")\n",
    "\n",
    "inversion = np.array(\n",
    "               [[-1,  0,  0]\n",
    "               ,[ 0, -1,  0]\n",
    "               ,[ 0,  0, -1]]\n",
    ")\n",
    "\n",
    "#i got on wikipedia and looked up the definition of rotation matrices and mirror matrices\n",
    "#ive taken linear algebra already i just needed a refresher\n",
    "mirror_z = np.array(\n",
    "    [[1, 0, 0]\n",
    "     ,[0, 1, 0]\n",
    "     ,[0, 0, -1]]\n",
    ")\n",
    "\n",
    "mirror_y = np.array(\n",
    "    [[1, 0, 0]\n",
    "     ,[0, -1, 0]\n",
    "     ,[0, 0, 1]]\n",
    ")\n",
    "\n",
    "rotation_x_180 =np.array(\n",
    "    [[1, 0, 0]\n",
    "     ,[0, -1, 0]\n",
    "     ,[0, 0, -1]]\n",
    ")\n",
    "#inversion\n",
    "invert_scalar = np.dot(inversion @ a, inversion @ b)\n",
    "invert_pseudoscalar = np.dot(inversion @ c, np.cross(inversion @ a, inversion @ b))\n",
    "invert_polar = inversion @ c\n",
    "invert_axial = np.cross(inversion @ a, inversion @ b)\n",
    "print(\"inversion operation: \\n\", invert_scalar, \"\\n\", invert_pseudoscalar, \"\\n\", invert_polar, \"\\n\", invert_axial)\n",
    "\n",
    "#z axis mirror\n",
    "mirrorZ_scalar = np.dot(mirror_z @ a, mirror_z @ b)\n",
    "mirrorZ_pseudoscalar = np.dot(mirror_z @ c, np.cross(mirror_z @ a, mirror_z @ b))\n",
    "mirrorZ_polar = mirror_z @ c\n",
    "mirrorZ_axial = np.cross(mirror_z @ a, mirror_z @ b)\n",
    "print(\"Z axis mirror operation: \\n\", mirrorZ_scalar, \"\\n\", mirrorZ_pseudoscalar, \"\\n\", mirrorZ_polar, \"\\n\", mirrorZ_axial)\n",
    "\n",
    "#y axis mirror\n",
    "mirrorY_scalar = np.dot(mirror_y @ a, mirror_y @ b)\n",
    "mirrorY_pseudoscalar = np.dot(mirror_y @ c, np.cross(mirror_y @ a, mirror_y @ b))\n",
    "mirrorY_polar = mirror_y @ c\n",
    "mirrorY_axial = np.cross(mirror_y @ a, mirror_y @ b)\n",
    "print(\"Y axis mirror operation: \\n\", mirrorY_scalar, \"\\n\", mirrorY_pseudoscalar, \"\\n\", mirrorY_polar, \"\\n\", mirrorY_axial)\n",
    "\n",
    "#rotation of 180 around x\n",
    "rotateX_scalar = np.dot(rotation_x_180 @ a, rotation_x_180 @ b)\n",
    "rotateX_pseudoscalar = np.dot(rotation_x_180 @ c, np.cross(rotation_x_180 @ a, rotation_x_180 @ b))\n",
    "rotateX_polar = rotation_x_180 @ c\n",
    "rotateX_axial = np.cross(rotation_x_180 @ a, rotation_x_180 @ b)\n",
    "print(\"Rotation of 180 degrees arund x axis operation: \\n\", rotateX_scalar, \"\\n\", rotateX_pseudoscalar, \"\\n\", rotateX_polar, \"\\n\", rotateX_axial)\n"
   ]
  },
  {
   "cell_type": "markdown",
   "id": "ca5b351a-988a-4c05-90c3-2f0c04ecfd1d",
   "metadata": {},
   "source": [
    "# the table of operations\n",
    "| 1D object    | identity | inversion | mirror_z | mirror_y | rotation_x_180 |\n",
    "|--------------|----------|-----------|----------|----------|----------------|\n",
    "| scalar       | 1        | 0         | 0        | 0        | 0              |\n",
    "| pseudoscalar | 1        | -1        | -1       | -1       | 1              |\n",
    "| polar vector | 1        | [0 0 -1]  | [0 0 -1] | [0 0 1]  | [0 0 -1]       |\n",
    "| axial vector | 1        | [0 0 1]   | [0 0 1]  | [0 0 -1] | [0 0 -1]       |"
   ]
  },
  {
   "cell_type": "code",
   "execution_count": null,
   "id": "1f33296c-b7b8-4a41-8d65-2f2ff5792a5c",
   "metadata": {},
   "outputs": [],
   "source": []
  }
 ],
 "metadata": {
  "kernelspec": {
   "display_name": "Python 3 (ipykernel)",
   "language": "python",
   "name": "python3"
  },
  "language_info": {
   "codemirror_mode": {
    "name": "ipython",
    "version": 3
   },
   "file_extension": ".py",
   "mimetype": "text/x-python",
   "name": "python",
   "nbconvert_exporter": "python",
   "pygments_lexer": "ipython3",
   "version": "3.9.19"
  }
 },
 "nbformat": 4,
 "nbformat_minor": 5
}
